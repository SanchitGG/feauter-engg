{
 "cells": [
  {
   "cell_type": "code",
   "execution_count": 1,
   "id": "7639080e",
   "metadata": {},
   "outputs": [
    {
     "name": "stdout",
     "output_type": "stream",
     "text": [
      "Requirement already satisfied: imblearn in c:\\users\\sanch\\anaconda3\\envs\\vehicle\\lib\\site-packages (0.0)\n",
      "Requirement already satisfied: imbalanced-learn in c:\\users\\sanch\\anaconda3\\envs\\vehicle\\lib\\site-packages (from imblearn) (0.13.0)\n",
      "Requirement already satisfied: numpy<3,>=1.24.3 in c:\\users\\sanch\\anaconda3\\envs\\vehicle\\lib\\site-packages (from imbalanced-learn->imblearn) (2.1.1)\n",
      "Requirement already satisfied: scipy<2,>=1.10.1 in c:\\users\\sanch\\anaconda3\\envs\\vehicle\\lib\\site-packages (from imbalanced-learn->imblearn) (1.15.1)\n",
      "Requirement already satisfied: scikit-learn<2,>=1.3.2 in c:\\users\\sanch\\anaconda3\\envs\\vehicle\\lib\\site-packages (from imbalanced-learn->imblearn) (1.6.1)\n",
      "Requirement already satisfied: sklearn-compat<1,>=0.1 in c:\\users\\sanch\\anaconda3\\envs\\vehicle\\lib\\site-packages (from imbalanced-learn->imblearn) (0.1.3)\n",
      "Requirement already satisfied: joblib<2,>=1.1.1 in c:\\users\\sanch\\anaconda3\\envs\\vehicle\\lib\\site-packages (from imbalanced-learn->imblearn) (1.4.2)\n",
      "Requirement already satisfied: threadpoolctl<4,>=2.0.0 in c:\\users\\sanch\\anaconda3\\envs\\vehicle\\lib\\site-packages (from imbalanced-learn->imblearn) (3.5.0)\n",
      "Note: you may need to restart the kernel to use updated packages.\n"
     ]
    }
   ],
   "source": [
    "pip install imblearn"
   ]
  },
  {
   "cell_type": "code",
   "execution_count": null,
   "id": "8dc545b2",
   "metadata": {},
   "outputs": [],
   "source": [
    "import pandas as pd\n",
    "import numpy as np\n",
    "from sklearn.feature_selection import mutual_info_classif, mutual_info_regression\n",
    "\n",
    "def make_mi_scores(X, y, discrete_features='auto'):\n",
    "    \"\"\"\n",
    "    Compute mutual information scores for features against target y.\n",
    "    Automatically detects whether to use classification or regression MI.\n",
    "    \n",
    "    Parameters:\n",
    "    - X (pd.DataFrame): Features\n",
    "    - y (pd.Series or np.array): Target variable\n",
    "    - discrete_features: 'auto', bool array, or indices of discrete features\n",
    "    \n",
    "    \"\"\"\n",
    "    # Detect if classification or regression\n",
    "    if pd.api.types.is_numeric_dtype(y):\n",
    "        task_type = \"regression\"\n",
    "        mi = mutual_info_regression(X, y, discrete_features=discrete_features, random_state=0)\n",
    "    else:\n",
    "        task_type = \"classification\"\n",
    "        mi = mutual_info_classif(X, y, discrete_features=discrete_features, random_state=0)\n",
    "    \n",
    "    mi_scores = pd.Series(mi, index=X.columns).sort_values(ascending=False)\n",
    "    print(f\"Task detected: {task_type}\")\n",
    "    return mi_scores\n"
   ]
  },
  {
   "cell_type": "code",
   "execution_count": null,
   "id": "8c265cef",
   "metadata": {},
   "outputs": [],
   "source": []
  },
  {
   "cell_type": "code",
   "execution_count": null,
   "id": "55591be7",
   "metadata": {},
   "outputs": [],
   "source": []
  }
 ],
 "metadata": {
  "kernelspec": {
   "display_name": "vehicle",
   "language": "python",
   "name": "python3"
  },
  "language_info": {
   "codemirror_mode": {
    "name": "ipython",
    "version": 3
   },
   "file_extension": ".py",
   "mimetype": "text/x-python",
   "name": "python",
   "nbconvert_exporter": "python",
   "pygments_lexer": "ipython3",
   "version": "3.12.9"
  }
 },
 "nbformat": 4,
 "nbformat_minor": 5
}
