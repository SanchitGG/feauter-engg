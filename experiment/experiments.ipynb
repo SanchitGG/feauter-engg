{
 "cells": [
  {
   "cell_type": "code",
   "execution_count": 1,
   "id": "7639080e",
   "metadata": {},
   "outputs": [
    {
     "name": "stdout",
     "output_type": "stream",
     "text": [
      "Requirement already satisfied: imblearn in c:\\users\\sanch\\anaconda3\\envs\\vehicle\\lib\\site-packages (0.0)\n",
      "Requirement already satisfied: imbalanced-learn in c:\\users\\sanch\\anaconda3\\envs\\vehicle\\lib\\site-packages (from imblearn) (0.13.0)\n",
      "Requirement already satisfied: numpy<3,>=1.24.3 in c:\\users\\sanch\\anaconda3\\envs\\vehicle\\lib\\site-packages (from imbalanced-learn->imblearn) (2.1.1)\n",
      "Requirement already satisfied: scipy<2,>=1.10.1 in c:\\users\\sanch\\anaconda3\\envs\\vehicle\\lib\\site-packages (from imbalanced-learn->imblearn) (1.15.1)\n",
      "Requirement already satisfied: scikit-learn<2,>=1.3.2 in c:\\users\\sanch\\anaconda3\\envs\\vehicle\\lib\\site-packages (from imbalanced-learn->imblearn) (1.6.1)\n",
      "Requirement already satisfied: sklearn-compat<1,>=0.1 in c:\\users\\sanch\\anaconda3\\envs\\vehicle\\lib\\site-packages (from imbalanced-learn->imblearn) (0.1.3)\n",
      "Requirement already satisfied: joblib<2,>=1.1.1 in c:\\users\\sanch\\anaconda3\\envs\\vehicle\\lib\\site-packages (from imbalanced-learn->imblearn) (1.4.2)\n",
      "Requirement already satisfied: threadpoolctl<4,>=2.0.0 in c:\\users\\sanch\\anaconda3\\envs\\vehicle\\lib\\site-packages (from imbalanced-learn->imblearn) (3.5.0)\n",
      "Note: you may need to restart the kernel to use updated packages.\n"
     ]
    }
   ],
   "source": [
    "pip install imblearn"
   ]
  },
  {
   "cell_type": "code",
   "execution_count": null,
   "id": "8dc545b2",
   "metadata": {},
   "outputs": [],
   "source": [
    "import pandas as pd\n",
    "import numpy as np\n",
    "from sklearn.feature_selection import mutual_info_classif, mutual_info_regression\n",
    "\n",
    "def make_mi_scores(X, y, discrete_features='auto'):\n",
    "    \"\"\"\n",
    "    Compute mutual information scores for features against target y.\n",
    "    Automatically detects whether to use classification or regression MI.\n",
    "    \n",
    "    Parameters:\n",
    "    - X (pd.DataFrame): Features\n",
    "    - y (pd.Series or np.array): Target variable\n",
    "    - discrete_features: 'auto', bool array, or indices of discrete features\n",
    "    \n",
    "    \"\"\"\n",
    "    # Detect if classification or regression\n",
    "    if pd.api.types.is_numeric_dtype(y):\n",
    "        task_type = \"regression\"\n",
    "        mi = mutual_info_regression(X, y, discrete_features=discrete_features, random_state=0)\n",
    "    else:\n",
    "        task_type = \"classification\"\n",
    "        mi = mutual_info_classif(X, y, discrete_features=discrete_features, random_state=0)\n",
    "    \n",
    "    mi_scores = pd.Series(mi, index=X.columns).sort_values(ascending=False)\n",
    "    print(f\"Task detected: {task_type}\")\n",
    "    return mi_scores\n"
   ]
  },
  {
   "cell_type": "code",
   "execution_count": null,
   "id": "8c265cef",
   "metadata": {},
   "outputs": [],
   "source": []
  },
  {
   "cell_type": "code",
   "execution_count": 1,
   "id": "55591be7",
   "metadata": {},
   "outputs": [
    {
     "name": "stdout",
     "output_type": "stream",
     "text": [
      "Requirement already satisfied: feateng in c:\\users\\sanch\\anaconda3\\envs\\vehicle\\lib\\site-packages (0.2.0)Note: you may need to restart the kernel to use updated packages.\n",
      "\n",
      "Requirement already satisfied: numpy in c:\\users\\sanch\\anaconda3\\envs\\vehicle\\lib\\site-packages (from feateng) (2.1.1)\n",
      "Requirement already satisfied: pandas in c:\\users\\sanch\\anaconda3\\envs\\vehicle\\lib\\site-packages (from feateng) (2.2.3)\n",
      "Requirement already satisfied: scikit-learn in c:\\users\\sanch\\anaconda3\\envs\\vehicle\\lib\\site-packages (from feateng) (1.6.1)\n",
      "Requirement already satisfied: python-dateutil>=2.8.2 in c:\\users\\sanch\\appdata\\roaming\\python\\python312\\site-packages (from pandas->feateng) (2.9.0.post0)\n",
      "Requirement already satisfied: pytz>=2020.1 in c:\\users\\sanch\\anaconda3\\envs\\vehicle\\lib\\site-packages (from pandas->feateng) (2025.1)\n",
      "Requirement already satisfied: tzdata>=2022.7 in c:\\users\\sanch\\anaconda3\\envs\\vehicle\\lib\\site-packages (from pandas->feateng) (2025.1)\n",
      "Requirement already satisfied: scipy>=1.6.0 in c:\\users\\sanch\\anaconda3\\envs\\vehicle\\lib\\site-packages (from scikit-learn->feateng) (1.15.1)\n",
      "Requirement already satisfied: joblib>=1.2.0 in c:\\users\\sanch\\anaconda3\\envs\\vehicle\\lib\\site-packages (from scikit-learn->feateng) (1.4.2)\n",
      "Requirement already satisfied: threadpoolctl>=3.1.0 in c:\\users\\sanch\\anaconda3\\envs\\vehicle\\lib\\site-packages (from scikit-learn->feateng) (3.5.0)\n",
      "Requirement already satisfied: six>=1.5 in c:\\users\\sanch\\appdata\\roaming\\python\\python312\\site-packages (from python-dateutil>=2.8.2->pandas->feateng) (1.16.0)\n"
     ]
    }
   ],
   "source": [
    "pip install feateng"
   ]
  },
  {
   "cell_type": "code",
   "execution_count": 3,
   "id": "03c2210c",
   "metadata": {},
   "outputs": [
    {
     "name": "stdout",
     "output_type": "stream",
     "text": [
      "Name: feateng\n",
      "Version: 0.2.0\n",
      "Summary: A feature engineering helper library\n",
      "Home-page: https://github.com/Sanchitgg/Data_Mat\n",
      "Author: Sanchitgg\n",
      "Author-email: sanchitgg2005@gmail.com\n",
      "License: MIT\n",
      "Location: c:\\Users\\sanch\\anaconda3\\envs\\vehicle\\Lib\\site-packages\n",
      "Requires: numpy, pandas, scikit-learn\n",
      "Required-by: \n",
      "Files:\n",
      "  feateng-0.2.0.dist-info\\INSTALLER\n",
      "  feateng-0.2.0.dist-info\\METADATA\n",
      "  feateng-0.2.0.dist-info\\RECORD\n",
      "  feateng-0.2.0.dist-info\\REQUESTED\n",
      "  feateng-0.2.0.dist-info\\WHEEL\n",
      "  feateng-0.2.0.dist-info\\licenses\\LICENSE\n",
      "  feateng-0.2.0.dist-info\\top_level.txt\n",
      "Note: you may need to restart the kernel to use updated packages.\n"
     ]
    }
   ],
   "source": [
    "pip show  -f feateng"
   ]
  },
  {
   "cell_type": "code",
   "execution_count": null,
   "id": "da1b767f",
   "metadata": {},
   "outputs": [],
   "source": [
    "import fea"
   ]
  }
 ],
 "metadata": {
  "kernelspec": {
   "display_name": "vehicle",
   "language": "python",
   "name": "python3"
  },
  "language_info": {
   "codemirror_mode": {
    "name": "ipython",
    "version": 3
   },
   "file_extension": ".py",
   "mimetype": "text/x-python",
   "name": "python",
   "nbconvert_exporter": "python",
   "pygments_lexer": "ipython3",
   "version": "3.12.9"
  }
 },
 "nbformat": 4,
 "nbformat_minor": 5
}
